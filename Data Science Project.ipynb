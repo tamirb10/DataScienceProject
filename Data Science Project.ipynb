{
 "cells": [
  {
   "cell_type": "code",
   "execution_count": 8,
   "id": "2c6a5145",
   "metadata": {},
   "outputs": [
    {
     "ename": "FileNotFoundError",
     "evalue": "[Errno 2] No such file or directory: 'population-since-1800.csv'",
     "output_type": "error",
     "traceback": [
      "\u001b[1;31m---------------------------------------------------------------------------\u001b[0m",
      "\u001b[1;31mFileNotFoundError\u001b[0m                         Traceback (most recent call last)",
      "\u001b[1;32m<ipython-input-8-2d7dd5e729c2>\u001b[0m in \u001b[0;36m<module>\u001b[1;34m\u001b[0m\n\u001b[0;32m      4\u001b[0m \u001b[1;32mfrom\u001b[0m \u001b[0mmatplotlib\u001b[0m \u001b[1;32mimport\u001b[0m \u001b[0mpyplot\u001b[0m \u001b[1;32mas\u001b[0m \u001b[0mplt\u001b[0m\u001b[1;33m\u001b[0m\u001b[1;33m\u001b[0m\u001b[0m\n\u001b[0;32m      5\u001b[0m \u001b[1;33m\u001b[0m\u001b[0m\n\u001b[1;32m----> 6\u001b[1;33m \u001b[0mdf\u001b[0m \u001b[1;33m=\u001b[0m \u001b[0mpd\u001b[0m\u001b[1;33m.\u001b[0m\u001b[0mread_csv\u001b[0m\u001b[1;33m(\u001b[0m\u001b[1;34m'population-since-1800.csv'\u001b[0m\u001b[1;33m)\u001b[0m\u001b[1;33m\u001b[0m\u001b[1;33m\u001b[0m\u001b[0m\n\u001b[0m\u001b[0;32m      7\u001b[0m \u001b[0mdf\u001b[0m \u001b[1;33m=\u001b[0m \u001b[0mdf\u001b[0m\u001b[1;33m[\u001b[0m\u001b[1;33m(\u001b[0m\u001b[0mdf\u001b[0m\u001b[1;33m[\u001b[0m\u001b[1;34m'Year'\u001b[0m\u001b[1;33m]\u001b[0m \u001b[1;33m>=\u001b[0m \u001b[1;36m1990\u001b[0m\u001b[1;33m)\u001b[0m \u001b[1;33m&\u001b[0m \u001b[1;33m(\u001b[0m\u001b[0mdf\u001b[0m\u001b[1;33m[\u001b[0m\u001b[1;34m'Year'\u001b[0m\u001b[1;33m]\u001b[0m \u001b[1;33m<=\u001b[0m \u001b[1;36m2019\u001b[0m\u001b[1;33m)\u001b[0m\u001b[1;33m]\u001b[0m\u001b[1;33m\u001b[0m\u001b[1;33m\u001b[0m\u001b[0m\n\u001b[0;32m      8\u001b[0m \u001b[0mdf\u001b[0m\u001b[1;33m.\u001b[0m\u001b[0mto_csv\u001b[0m\u001b[1;33m(\u001b[0m\u001b[1;34m'population-since-1800.csv'\u001b[0m\u001b[1;33m)\u001b[0m\u001b[1;33m\u001b[0m\u001b[1;33m\u001b[0m\u001b[0m\n",
      "\u001b[1;32m~\\anaconda3\\lib\\site-packages\\pandas\\io\\parsers.py\u001b[0m in \u001b[0;36mread_csv\u001b[1;34m(filepath_or_buffer, sep, delimiter, header, names, index_col, usecols, squeeze, prefix, mangle_dupe_cols, dtype, engine, converters, true_values, false_values, skipinitialspace, skiprows, skipfooter, nrows, na_values, keep_default_na, na_filter, verbose, skip_blank_lines, parse_dates, infer_datetime_format, keep_date_col, date_parser, dayfirst, cache_dates, iterator, chunksize, compression, thousands, decimal, lineterminator, quotechar, quoting, doublequote, escapechar, comment, encoding, dialect, error_bad_lines, warn_bad_lines, delim_whitespace, low_memory, memory_map, float_precision, storage_options)\u001b[0m\n\u001b[0;32m    608\u001b[0m     \u001b[0mkwds\u001b[0m\u001b[1;33m.\u001b[0m\u001b[0mupdate\u001b[0m\u001b[1;33m(\u001b[0m\u001b[0mkwds_defaults\u001b[0m\u001b[1;33m)\u001b[0m\u001b[1;33m\u001b[0m\u001b[1;33m\u001b[0m\u001b[0m\n\u001b[0;32m    609\u001b[0m \u001b[1;33m\u001b[0m\u001b[0m\n\u001b[1;32m--> 610\u001b[1;33m     \u001b[1;32mreturn\u001b[0m \u001b[0m_read\u001b[0m\u001b[1;33m(\u001b[0m\u001b[0mfilepath_or_buffer\u001b[0m\u001b[1;33m,\u001b[0m \u001b[0mkwds\u001b[0m\u001b[1;33m)\u001b[0m\u001b[1;33m\u001b[0m\u001b[1;33m\u001b[0m\u001b[0m\n\u001b[0m\u001b[0;32m    611\u001b[0m \u001b[1;33m\u001b[0m\u001b[0m\n\u001b[0;32m    612\u001b[0m \u001b[1;33m\u001b[0m\u001b[0m\n",
      "\u001b[1;32m~\\anaconda3\\lib\\site-packages\\pandas\\io\\parsers.py\u001b[0m in \u001b[0;36m_read\u001b[1;34m(filepath_or_buffer, kwds)\u001b[0m\n\u001b[0;32m    460\u001b[0m \u001b[1;33m\u001b[0m\u001b[0m\n\u001b[0;32m    461\u001b[0m     \u001b[1;31m# Create the parser.\u001b[0m\u001b[1;33m\u001b[0m\u001b[1;33m\u001b[0m\u001b[1;33m\u001b[0m\u001b[0m\n\u001b[1;32m--> 462\u001b[1;33m     \u001b[0mparser\u001b[0m \u001b[1;33m=\u001b[0m \u001b[0mTextFileReader\u001b[0m\u001b[1;33m(\u001b[0m\u001b[0mfilepath_or_buffer\u001b[0m\u001b[1;33m,\u001b[0m \u001b[1;33m**\u001b[0m\u001b[0mkwds\u001b[0m\u001b[1;33m)\u001b[0m\u001b[1;33m\u001b[0m\u001b[1;33m\u001b[0m\u001b[0m\n\u001b[0m\u001b[0;32m    463\u001b[0m \u001b[1;33m\u001b[0m\u001b[0m\n\u001b[0;32m    464\u001b[0m     \u001b[1;32mif\u001b[0m \u001b[0mchunksize\u001b[0m \u001b[1;32mor\u001b[0m \u001b[0miterator\u001b[0m\u001b[1;33m:\u001b[0m\u001b[1;33m\u001b[0m\u001b[1;33m\u001b[0m\u001b[0m\n",
      "\u001b[1;32m~\\anaconda3\\lib\\site-packages\\pandas\\io\\parsers.py\u001b[0m in \u001b[0;36m__init__\u001b[1;34m(self, f, engine, **kwds)\u001b[0m\n\u001b[0;32m    817\u001b[0m             \u001b[0mself\u001b[0m\u001b[1;33m.\u001b[0m\u001b[0moptions\u001b[0m\u001b[1;33m[\u001b[0m\u001b[1;34m\"has_index_names\"\u001b[0m\u001b[1;33m]\u001b[0m \u001b[1;33m=\u001b[0m \u001b[0mkwds\u001b[0m\u001b[1;33m[\u001b[0m\u001b[1;34m\"has_index_names\"\u001b[0m\u001b[1;33m]\u001b[0m\u001b[1;33m\u001b[0m\u001b[1;33m\u001b[0m\u001b[0m\n\u001b[0;32m    818\u001b[0m \u001b[1;33m\u001b[0m\u001b[0m\n\u001b[1;32m--> 819\u001b[1;33m         \u001b[0mself\u001b[0m\u001b[1;33m.\u001b[0m\u001b[0m_engine\u001b[0m \u001b[1;33m=\u001b[0m \u001b[0mself\u001b[0m\u001b[1;33m.\u001b[0m\u001b[0m_make_engine\u001b[0m\u001b[1;33m(\u001b[0m\u001b[0mself\u001b[0m\u001b[1;33m.\u001b[0m\u001b[0mengine\u001b[0m\u001b[1;33m)\u001b[0m\u001b[1;33m\u001b[0m\u001b[1;33m\u001b[0m\u001b[0m\n\u001b[0m\u001b[0;32m    820\u001b[0m \u001b[1;33m\u001b[0m\u001b[0m\n\u001b[0;32m    821\u001b[0m     \u001b[1;32mdef\u001b[0m \u001b[0mclose\u001b[0m\u001b[1;33m(\u001b[0m\u001b[0mself\u001b[0m\u001b[1;33m)\u001b[0m\u001b[1;33m:\u001b[0m\u001b[1;33m\u001b[0m\u001b[1;33m\u001b[0m\u001b[0m\n",
      "\u001b[1;32m~\\anaconda3\\lib\\site-packages\\pandas\\io\\parsers.py\u001b[0m in \u001b[0;36m_make_engine\u001b[1;34m(self, engine)\u001b[0m\n\u001b[0;32m   1048\u001b[0m             )\n\u001b[0;32m   1049\u001b[0m         \u001b[1;31m# error: Too many arguments for \"ParserBase\"\u001b[0m\u001b[1;33m\u001b[0m\u001b[1;33m\u001b[0m\u001b[1;33m\u001b[0m\u001b[0m\n\u001b[1;32m-> 1050\u001b[1;33m         \u001b[1;32mreturn\u001b[0m \u001b[0mmapping\u001b[0m\u001b[1;33m[\u001b[0m\u001b[0mengine\u001b[0m\u001b[1;33m]\u001b[0m\u001b[1;33m(\u001b[0m\u001b[0mself\u001b[0m\u001b[1;33m.\u001b[0m\u001b[0mf\u001b[0m\u001b[1;33m,\u001b[0m \u001b[1;33m**\u001b[0m\u001b[0mself\u001b[0m\u001b[1;33m.\u001b[0m\u001b[0moptions\u001b[0m\u001b[1;33m)\u001b[0m  \u001b[1;31m# type: ignore[call-arg]\u001b[0m\u001b[1;33m\u001b[0m\u001b[1;33m\u001b[0m\u001b[0m\n\u001b[0m\u001b[0;32m   1051\u001b[0m \u001b[1;33m\u001b[0m\u001b[0m\n\u001b[0;32m   1052\u001b[0m     \u001b[1;32mdef\u001b[0m \u001b[0m_failover_to_python\u001b[0m\u001b[1;33m(\u001b[0m\u001b[0mself\u001b[0m\u001b[1;33m)\u001b[0m\u001b[1;33m:\u001b[0m\u001b[1;33m\u001b[0m\u001b[1;33m\u001b[0m\u001b[0m\n",
      "\u001b[1;32m~\\anaconda3\\lib\\site-packages\\pandas\\io\\parsers.py\u001b[0m in \u001b[0;36m__init__\u001b[1;34m(self, src, **kwds)\u001b[0m\n\u001b[0;32m   1865\u001b[0m \u001b[1;33m\u001b[0m\u001b[0m\n\u001b[0;32m   1866\u001b[0m         \u001b[1;31m# open handles\u001b[0m\u001b[1;33m\u001b[0m\u001b[1;33m\u001b[0m\u001b[1;33m\u001b[0m\u001b[0m\n\u001b[1;32m-> 1867\u001b[1;33m         \u001b[0mself\u001b[0m\u001b[1;33m.\u001b[0m\u001b[0m_open_handles\u001b[0m\u001b[1;33m(\u001b[0m\u001b[0msrc\u001b[0m\u001b[1;33m,\u001b[0m \u001b[0mkwds\u001b[0m\u001b[1;33m)\u001b[0m\u001b[1;33m\u001b[0m\u001b[1;33m\u001b[0m\u001b[0m\n\u001b[0m\u001b[0;32m   1868\u001b[0m         \u001b[1;32massert\u001b[0m \u001b[0mself\u001b[0m\u001b[1;33m.\u001b[0m\u001b[0mhandles\u001b[0m \u001b[1;32mis\u001b[0m \u001b[1;32mnot\u001b[0m \u001b[1;32mNone\u001b[0m\u001b[1;33m\u001b[0m\u001b[1;33m\u001b[0m\u001b[0m\n\u001b[0;32m   1869\u001b[0m         \u001b[1;32mfor\u001b[0m \u001b[0mkey\u001b[0m \u001b[1;32min\u001b[0m \u001b[1;33m(\u001b[0m\u001b[1;34m\"storage_options\"\u001b[0m\u001b[1;33m,\u001b[0m \u001b[1;34m\"encoding\"\u001b[0m\u001b[1;33m,\u001b[0m \u001b[1;34m\"memory_map\"\u001b[0m\u001b[1;33m,\u001b[0m \u001b[1;34m\"compression\"\u001b[0m\u001b[1;33m)\u001b[0m\u001b[1;33m:\u001b[0m\u001b[1;33m\u001b[0m\u001b[1;33m\u001b[0m\u001b[0m\n",
      "\u001b[1;32m~\\anaconda3\\lib\\site-packages\\pandas\\io\\parsers.py\u001b[0m in \u001b[0;36m_open_handles\u001b[1;34m(self, src, kwds)\u001b[0m\n\u001b[0;32m   1360\u001b[0m         \u001b[0mLet\u001b[0m \u001b[0mthe\u001b[0m \u001b[0mreaders\u001b[0m \u001b[0mopen\u001b[0m \u001b[0mIOHanldes\u001b[0m \u001b[0mafter\u001b[0m \u001b[0mthey\u001b[0m \u001b[0mare\u001b[0m \u001b[0mdone\u001b[0m \u001b[1;32mwith\u001b[0m \u001b[0mtheir\u001b[0m \u001b[0mpotential\u001b[0m \u001b[0mraises\u001b[0m\u001b[1;33m.\u001b[0m\u001b[1;33m\u001b[0m\u001b[1;33m\u001b[0m\u001b[0m\n\u001b[0;32m   1361\u001b[0m         \"\"\"\n\u001b[1;32m-> 1362\u001b[1;33m         self.handles = get_handle(\n\u001b[0m\u001b[0;32m   1363\u001b[0m             \u001b[0msrc\u001b[0m\u001b[1;33m,\u001b[0m\u001b[1;33m\u001b[0m\u001b[1;33m\u001b[0m\u001b[0m\n\u001b[0;32m   1364\u001b[0m             \u001b[1;34m\"r\"\u001b[0m\u001b[1;33m,\u001b[0m\u001b[1;33m\u001b[0m\u001b[1;33m\u001b[0m\u001b[0m\n",
      "\u001b[1;32m~\\anaconda3\\lib\\site-packages\\pandas\\io\\common.py\u001b[0m in \u001b[0;36mget_handle\u001b[1;34m(path_or_buf, mode, encoding, compression, memory_map, is_text, errors, storage_options)\u001b[0m\n\u001b[0;32m    640\u001b[0m                 \u001b[0merrors\u001b[0m \u001b[1;33m=\u001b[0m \u001b[1;34m\"replace\"\u001b[0m\u001b[1;33m\u001b[0m\u001b[1;33m\u001b[0m\u001b[0m\n\u001b[0;32m    641\u001b[0m             \u001b[1;31m# Encoding\u001b[0m\u001b[1;33m\u001b[0m\u001b[1;33m\u001b[0m\u001b[1;33m\u001b[0m\u001b[0m\n\u001b[1;32m--> 642\u001b[1;33m             handle = open(\n\u001b[0m\u001b[0;32m    643\u001b[0m                 \u001b[0mhandle\u001b[0m\u001b[1;33m,\u001b[0m\u001b[1;33m\u001b[0m\u001b[1;33m\u001b[0m\u001b[0m\n\u001b[0;32m    644\u001b[0m                 \u001b[0mioargs\u001b[0m\u001b[1;33m.\u001b[0m\u001b[0mmode\u001b[0m\u001b[1;33m,\u001b[0m\u001b[1;33m\u001b[0m\u001b[1;33m\u001b[0m\u001b[0m\n",
      "\u001b[1;31mFileNotFoundError\u001b[0m: [Errno 2] No such file or directory: 'population-since-1800.csv'"
     ]
    }
   ],
   "source": [
    "import pandas as pd  ## צמצום טבלאות אוכלוסיה ויערות מ1990-2019\n",
    "import matplotlib as mpl\n",
    "import numpy as np\n",
    "from matplotlib import pyplot as plt\n",
    "\n",
    "df = pd.read_csv('population-since-1800.csv') \n",
    "df = df[(df['Year'] >= 1990) & (df['Year'] <= 2019)]\n",
    "df.to_csv('population-since-1800.csv')\n",
    "df2 = pd.read_csv('% of total forest per country.csv') \n",
    "df2 = df2[(df2['Year'] >= 1990) & (df2['Year'] <= 2019)]\n",
    "df2.to_csv('% of total forest per country.csv')\n",
    "\n",
    "  #מיזוג 2 הטבלאות באמצעות פקודה מרג בהסתמך על ארץ ושנה דומות ומיזוג עם המאגר הגדול יותר כדי לא לאבד יותר מידי נתונים (וכך השורות החסרות הצטרפו)\n",
    "output1 = pd.merge(df, df2, how='left', on=['Entity', 'Year'])\n",
    "output1.to_csv('output1.csv')"
   ]
  },
  {
   "cell_type": "code",
   "execution_count": 34,
   "id": "de5536cd",
   "metadata": {},
   "outputs": [],
   "source": [
    "merged = pd.read_csv('NewData-Forest+Population.csv')\n",
    "for i in merged.columns[merged.isnull().any(axis=0)]:   \n",
    "    merged[i].fillna(merged.groupby('Entity')[i].transform(\"median\"),inplace=True)\n",
    "#בדיקת ערכי הנאל בטבלה המאוחדת שלנו והשלמת החציון באמצעות הקבוצות הספציפיות בלבד(לדוגמא אפגניסטן וחישוב הממוצע שלה בלבד)       \n",
    "merged.to_csv('NewDataBase-Forest+Population.csv')            "
   ]
  },
  {
   "cell_type": "code",
   "execution_count": 36,
   "id": "053eb545",
   "metadata": {},
   "outputs": [],
   "source": [
    "Mortality = pd.read_csv('Mortality.csv')\n",
    "Mortality = Mortality[(Mortality['Year'] >= 1990) & (Mortality['Year'] <= 2019)]\n",
    "output1 = pd.merge(merged, Mortality, how='inner', on=['Entity', 'Year'])\n",
    "output1.to_csv('Forest+Population+Mortality.csv')\n",
    "#שילוב קובץ נוסף ואיחוד שלו הפעם על ידי inner כי היו יותר מידי נתונים להשלים"
   ]
  },
  {
   "cell_type": "code",
   "execution_count": 70,
   "id": "b8e4d125",
   "metadata": {},
   "outputs": [],
   "source": [
    "undernourishment = pd.read_csv('prevalence-of-undernourishment.csv')\n",
    "undernourishment['undernourishment_prevalence'].replace('<2.5',2.5,inplace=True)\n",
    "undernourishment['undernourishment_prevalence'] = undernourishment['undernourishment_prevalence'].astype(float)\n",
    "undernourishment.to_csv('prevalence-of-undernourishment.csv') \n",
    "#לקיחת הקובץ של הרעב החלפת ערכים שנצטרך לחשב בעתיד בערכים מספריים כי קיבלנו קובץ עם עמוד אוגבגקט והחלפנו לפלוט."
   ]
  },
  {
   "cell_type": "code",
   "execution_count": 91,
   "id": "fb88d810",
   "metadata": {},
   "outputs": [],
   "source": [
    "combined= pd.merge(output1, undernourishment, how='left', on=['Entity', 'Year'])\n",
    "\n",
    "combined['undernourishment_prevalence'].fillna(combined.groupby('Entity')['undernourishment_prevalence'].transform(\"median\"),inplace=True)\n",
    "combined['undernourishment_prevalence'] = combined['undernourishment_prevalence'].fillna(0)\n",
    "    \n",
    "combined.to_csv('Forest+Mortality+Population+undernourishment.csv')     \n",
    "# איחדנו את נתוני הרעב ביחד עם הקובץ הקיים שלנו תוך כדי השלמנו את הערכים הריקים בחציון או ב 0 אם לא היה ידע מקדים"
   ]
  },
  {
   "cell_type": "code",
   "execution_count": 93,
   "id": "3c1d6922",
   "metadata": {},
   "outputs": [],
   "source": [
    "lastCombined = pd.read_csv('Forest+Mortality+Population+undernourishment .csv')\n",
    "kmpercountry=  pd.read_csv('km forest per coutnry.csv')\n",
    "new = pd.merge(lastCombined, kmpercountry, how='left', on=['Entity', 'Year'])\n",
    "new['Forest area'].fillna(new.groupby('Entity')['Forest area'].transform(\"median\"),inplace=True)\n",
    "new.to_csv('Forest+Mortality+Population+undernourishment+forestPerCountry.csv')\n",
    "#הוספנו קילומטר יער פר מדינה והחלפנו בחציון מה שצריך איחוד רגיל עם הקובץ הקודם"
   ]
  },
  {
   "cell_type": "code",
   "execution_count": 61,
   "id": "6dddee0e",
   "metadata": {},
   "outputs": [],
   "source": [
    "import requests\n",
    "from bs4 import BeautifulSoup\n",
    "def get_page(url):\n",
    "    \"\"\"\n",
    "    This function gets URL and transfors it into a BS4 formated object\n",
    "    :url - the desired URL of the websitee \n",
    "    \"\"\"\n",
    "    r=requests.get(url)\n",
    "    soup=BeautifulSoup(r.content,\"html.parser\")\n",
    "    return soup # BS4 Object\n",
    "   \n",
    "def html_parse(page,tag=\"td\",exclude=[\" \", \"\\t\" ,\"\\n\",\"]\"]):\n",
    "    \"\"\"\n",
    "    This funciton gets a bs4 formated page and creates various of \n",
    "    lists out of it.\n",
    "    :page = a bs4 formated page as a whole\n",
    "    :tag = the desired tag to be filtered into lists:\n",
    "    :exclude = an array with all the desired things to exclude.\n",
    "    \"\"\"\n",
    "    # Initial definition\n",
    "    page=page.find_all('tr')#find all trs\n",
    "    output=[]\n",
    "    for line in page: #tr from trs\n",
    "        tag_flag = 0 ; result = \"\"\n",
    "        seg=str(line.select(tag)) #make a string(array)\n",
    "        \n",
    "        # My Own HTML Parse\n",
    "        for word in seg:# letter from a string\n",
    "            next_flag = 0\n",
    "            if word == \"<\": tag_flag = 0 \n",
    "            elif word == \">\" : tag_flag = 1\n",
    "            elif next_flag == 0 and tag_flag == 1: result = result + word\n",
    "            \n",
    "        # Clean My Result\n",
    "        for sign in exclude: result = result.replace(sign,\"\")#replace tags=[\" \", \"\\t\" ,\"\\n\",\"]\"] with nothing \n",
    "        result = result.split(\",\")\n",
    "        output.append(result)\n",
    "    return output\n",
    "\n",
    "def filter_array(lists, ftype=\"content\"):\n",
    "    \"\"\"\n",
    "    This function filters all the irelevent arrays, among empty or those which are not part of the requirements\n",
    "    :lists = the output of html_parse\n",
    "    :ftype = the filtering type that is required\n",
    "    \"\"\"\n",
    "    # Define\n",
    "    res = []\n",
    "    if ftype == \"content\" : min = 12\n",
    "    else : min = 1 \n",
    "    for list in lists:\n",
    "        if len(list) > min or \"Showonmap\" in list[0]: list[0] = simplify(list[0]); res.append(list)\n",
    "    return res\n",
    "def get_content(type):#\n",
    "    \"\"\"\n",
    "    Gets all the content out of the page as a LIST\n",
    "    :type = the name of the tab\n",
    "    \"\"\"\n",
    "    country_code=[\n",
    "    \"AFG+ALB+DZA+AND+AGO+ATG+ARG+ARM+AUS+AUT+AZE+BHS+BHR+BGD+BRB+BLR+BEL+BLZ+BEN+BTN+BOL+BIH+BWA+BRA+BRN+BGR+BFA+BDI+KHM+CMR+CAN\",\n",
    "    \"CPV+CAF+TCD+CHL+CHN+COL+COM+COG+COD+CRI+CIV+HRV+CUB+CYP+CZE+DNK+DJI+DMA+DOM+ECU+EGY+SLV+GNQ+ERI+EST+SWZ+ETH+FJI+FIN+FRA+GAB\",\n",
    "    \"GMB+GEO+DEU+GHA+GRC+GRD+GTM+GIN+GNB+GUY+HTI+HND+HUN+ISL+IND+IDN+IRN+IRQ+IRL+ISR+ITA+JAM+JPN+JOR+KAZ+KEN+KIR+XKO+KWT+KGZ+LAO\",\n",
    "    \"LVA+LBN+LSO+LBR+LBY+LIE+LTU+LUX+MDG+MWI+MYS+MDV+MLI+MRT+MUS+MEX+FSM+MDA+MNG+MNE+MAR+MOZ+MMR+NAM+NPL+NLD+NZL+NIC+NER+NGA+MKD\",\n",
    "    \"NOR+OMN+PAK+PSE+PAN+PNG+PRY+PER+PHL+POL+PRT+QAT+ROU+RUS+RWA+KNA+LCA+VCT+WSM+STP+SAU+SEN+SRB+SLE+SGP+SVK+SVN+SLB+SOM+ZAF+KOR\",\n",
    "    \"SSD+ESP+LKA+SDN+SUR+SWE+CHE+SYR+TJK+TZA+THA+TLS+TGO+TON+TTO+TUN+TUR+TKM+UGA+UKR+ARE+GBR+USA+URY+UZB+VUT+VEN+VNM+YEM+ZMB+ZWE\"\n",
    "    ]\n",
    "    url=\"https://globaldatalab.org/shdi/TYPE/COUNTRY_NAME/?levels=1&interpolation=1&extrapolation=0&nearest_real=0\".replace(\"TYPE\",type)\n",
    "    content=[]\n",
    "\n",
    "    for code in range(len(country_code)):\n",
    "        new_url = url.replace(\"COUNTRY_NAME\",country_code[code])\n",
    "        content = content + filter_array(\n",
    "            html_parse(get_page(new_url),\n",
    "                tag='td'),ftype=\"content\"\n",
    "        )\n",
    "    return content\n",
    "\n",
    "def simplify(text):\n",
    "    text=text.split(\"(\")\n",
    "    return text[0]\n",
    "    \n",
    "content = get_content(\"healthindex\") #מחליפים ל3 ערכים אחרים edindex/ incindex/ healthindex\n",
    "\n",
    "     "
   ]
  },
  {
   "cell_type": "code",
   "execution_count": 50,
   "id": "e581867f",
   "metadata": {},
   "outputs": [],
   "source": [
    "import pandas as pd\n",
    "df2 = pd.DataFrame(columns=['Entity', 'Year', 'Health'])\n",
    "\n",
    "for list_1 in content:\n",
    "    year=1990\n",
    "    index=1\n",
    "    for i in list_1:\n",
    "        if i==list_1[0]:\n",
    "            continue \n",
    "        df2 = df2.append({'Entity':list_1[0] , 'Year':year,'Health':i}, ignore_index=True)\n",
    "        year+=1                                          #מחליפים את עשינו את זה 3 פעמים בצורה ידנית כדי לקבל כל פעם קובץ אחר income edindex/ incindex/ healthindex ב \n",
    "        index+=1\n",
    "df2.to_csv('Health.csv')        "
   ]
  },
  {
   "cell_type": "code",
   "execution_count": 53,
   "id": "6a2c3203",
   "metadata": {},
   "outputs": [],
   "source": [
    "# עכשיו נאחד בין שלושת הקבצים בריאות רמת חינוך והכנסה\n",
    "Health = pd.read_csv('Health.csv')\n",
    "Income = pd.read_csv('Income.csv')\n",
    "Education = pd.read_csv('Education.csv')\n",
    "newoutput = pd.merge(Health, Income, how='inner', on=['Entity', 'Year'])\n",
    "newoutput = pd.merge(newoutput, Education, how='inner', on=['Entity', 'Year'])\n",
    "newoutput.to_csv('Education+Income+Health.csv')\n",
    "\n"
   ]
  },
  {
   "cell_type": "code",
   "execution_count": 55,
   "id": "0da3cd41",
   "metadata": {},
   "outputs": [],
   "source": [
    "save=pd.read_csv('Education+Income+Health.csv')\n",
    "for i in save.columns[save.isnull().any(axis=0)]:   \n",
    "    save[i].fillna(save.groupby('Entity')[i].transform(\"median\"),inplace=True)\n",
    "\n",
    "save.to_csv('Education+Income+Health.csv')\n",
    "#החלפת הערכים החסרים בטבלה בחציון של אותו טור בהינתן הארץ בלבד "
   ]
  },
  {
   "cell_type": "code",
   "execution_count": 60,
   "id": "93e8838c",
   "metadata": {},
   "outputs": [],
   "source": [
    "last_merge=pd.read_csv('Forest+Mortality+Population+undernourishment+forestPerCountry.csv')\n",
    "HealthEducationIncome=pd.read_csv('Education+Income+Health.csv')\n",
    "last_merge_Ever = pd.merge(last_merge, HealthEducationIncome, how='inner', on=['Entity', 'Year'])\n",
    "last_merge_Ever.to_csv('Forest+Mortality+Population+undernourishment+forestPerCountry+Education+Income+Health.csv')\n",
    "#האיחוד בין הקבצים הסופיים "
   ]
  },
  {
   "cell_type": "code",
   "execution_count": 146,
   "id": "93d89cdf",
   "metadata": {},
   "outputs": [],
   "source": [
    "final=pd.read_csv('FINAL.csv')\n",
    "final.drop(columns='Unnamed: 0',inplace=True)\n",
    "#final.iloc[2760:2789].plot.scatter(x='Year',y='Education')\n",
    "#final.iloc[4980:].plot.scatter(x='Year',y='Calories per day') \n",
    "#print(final['Entity'].nunique())\n",
    "#final.iloc[:].plot(kind='line',x='Year',y='Population (historical estimates)')\n",
    "#final=final.groupby(['Year'])['Population (historical estimates)'].mean()\n",
    "#final.plot(kind='line',x='Year',y='Population (historical estimates)')\n",
    "#print(final)\n",
    "\n",
    "#final=final.groupby(['Year'])['HDI'].mean()\n",
    "#final.plot.bar(x = 'Year', y = ['HDI'],width=.5)\n",
    "#mpl.pyplot.tight_layout(pad=-20)\n",
    "#final.describe()\n",
    "\n",
    "#ניסויים של גרפים שונים "
   ]
  },
  {
   "cell_type": "code",
   "execution_count": 81,
   "id": "3df85666",
   "metadata": {},
   "outputs": [
    {
     "data": {
      "image/png": "[encoded data removed]",
      "text/plain": [
       "<Figure size 720x432 with 1 Axes>"
      ]
     },
     "metadata": {
      "needs_background": "light"
     },
     "output_type": "display_data"
    }
   ],
   "source": [
    "from sklearn import linear_model\n",
    "%matplotlib inline  \n",
    "from sklearn.preprocessing import minmax_scale\n",
    "plt.rcParams['figure.figsize'] = (10, 6)\n",
    "from mpl_toolkits.mplot3d import Axes3D\n",
    "from matplotlib import cm\n",
    "final=pd.read_csv('FINAL.csv')\n",
    "#final.drop(columns='Unnamed: 0',inplace=True)\n",
    "################################################################## לא חייב לייבא שוב את הקובץ פשוט לא רציתי להריץ את הקודמים \n",
    "final.describe()\n",
    "plt.scatter(x=final.iloc[4980:]['Health'],y=final.iloc[4980:]['Population (historical estimates)'],c='r',marker='s',label='Health')\n",
    "plt.scatter(x=final.iloc[4980:]['Income'],y=final.iloc[4980:]['Population (historical estimates)'],c='b',marker='o',label='Income')\n",
    "plt.scatter(x=final.iloc[4980:]['Education'],y=final.iloc[4980:]['Population (historical estimates)'],c='k',marker='*',label='Education')\n",
    "\n",
    "plt.legend(numpoints=1,loc=4)\n",
    "plt.xlabel('Education Health Income')\n",
    "plt.ylabel('Population (historical estimates)')\n",
    "plt.show()"
   ]
  },
  {
   "cell_type": "code",
   "execution_count": 9,
   "id": "51d58def",
   "metadata": {},
   "outputs": [
    {
     "data": {
      "image/png": "[encoded data removed]",
      "text/plain": [
       "<Figure size 720x432 with 1 Axes>"
      ]
     },
     "metadata": {
      "needs_background": "light"
     },
     "output_type": "display_data"
    }
   ],
   "source": []
  },
  {
   "cell_type": "code",
   "execution_count": 3,
   "id": "9ceb5383",
   "metadata": {},
   "outputs": [],
   "source": [
    "import numpy as np\n",
    "import json\n",
    "final=pd.read_csv('FINAL.csv')\n",
    "final.drop(columns='Unnamed: 0',inplace=True)\n",
    "from sklearn.preprocessing import StandardScaler, MinMaxScaler\n",
    "x=0\n",
    "y=30\n",
    "PopulationNormalized = pd.DataFrame(columns=['PopulationNormalized'])\n",
    "newlist=[]\n",
    "#בנינו פונקציה שמנרמלת את הנתונים בעמודה בנינו על כך שיש 30 שורות לכל מדינה ולכן חישבנו את הסכום בצורה כזו\n",
    "for i in final.groupby('Entity')['Population (historical estimates)']:\n",
    "    p=final.iloc[x:y]['Population (historical estimates)']/i[1].sum()\n",
    "    newlist.append(p.to_list())\n",
    "\n",
    "    x+=30\n",
    "    y+=30\n",
    "\n",
    "i=0\n",
    "it=0\n",
    "while True:\n",
    "    if i==30:\n",
    "        i=0\n",
    "        it=it+1\n",
    "    if it==len(newlist):\n",
    "        break\n",
    "    PopulationNormalized=PopulationNormalized.append({'PopulationNormalized':newlist[it][i]},ignore_index=True)\n",
    "    \n",
    "    i=i+1\n",
    "    \n",
    "    \n",
    "PopulationNormalized.head()       \n",
    "\n",
    "PopulationNormalized.to_csv('Population Normalized.csv')\n"
   ]
  },
  {
   "cell_type": "code",
   "execution_count": 193,
   "id": "7df01cfe",
   "metadata": {},
   "outputs": [
    {
     "name": "stdout",
     "output_type": "stream",
     "text": [
      "38432377.39493513\n",
      "39288135.808303595\n",
      "40143894.22167206\n",
      "40999652.63504052\n",
      "41855411.048408985\n",
      "42711169.46177745\n",
      "43566927.87514591\n",
      "44422686.288514376\n",
      "45278444.70188308\n",
      "46134203.11525154\n",
      "46989961.528620005\n",
      "47845719.94198847\n",
      "48701478.35535693\n",
      "49557236.768725395\n",
      "50412995.18209386\n",
      "51268753.59546232\n",
      "52124512.008831024\n",
      "52980270.42219949\n",
      "53836028.83556795\n",
      "54691787.248936415\n",
      "55547545.66230488\n",
      "56403304.07567334\n",
      "57259062.489041805\n",
      "58114820.90241027\n",
      "58970579.31577897\n",
      "59826337.729147434\n",
      "60682096.1425159\n",
      "61537854.55588436\n",
      "62393612.969252825\n",
      "63249371.38262129\n",
      "64105129.79598975\n",
      "64960888.209358215\n",
      "65816646.62272668\n",
      "66672405.03609538\n",
      "67528163.44946384\n",
      "68383921.86283231\n",
      "69239680.27620077\n",
      "70095438.68956923\n",
      "70951197.1029377\n",
      "71806955.51630616\n"
     ]
    },
    {
     "data": {
      "text/plain": [
       "0.9896063328878418"
      ]
     },
     "execution_count": 193,
     "metadata": {},
     "output_type": "execute_result"
    },
    {
     "data": {
      "image/png": "[encoded data removed]",
      "text/plain": [
       "<Figure size 432x288 with 1 Axes>"
      ]
     },
     "metadata": {
      "needs_background": "light"
     },
     "output_type": "display_data"
    }
   ],
   "source": [
    "final=pd.read_csv('final1.csv')\n",
    "from sklearn.linear_model import LinearRegression\n",
    "from sklearn.model_selection import train_test_split\n",
    "x=0\n",
    "y=30\n",
    "\n",
    "final.iloc[x:y].plot(kind='line',x='Year',y='Population (historical estimates)')\n",
    "X=final.iloc[0:30][['Year']]\n",
    "y=final[0:30][['Population (historical estimates)']]\n",
    "X_train,X_test,y_train,y_test = train_test_split(X,y,test_size=0.2)\n",
    "reg=LinearRegression().fit(X_train,y_train)\n",
    "\n",
    "\n",
    "pre = [] ; x_years = [2020,2060] # From each year to each year i want to check \n",
    "for i in range(x_years[0],x_years[1]):print(reg.predict([[i]])[0][0]),pre.append(reg.predict([[i]])[0][0])\n",
    "plt.plot( np.arange(x_years[0],x_years[1],1), pre, color=\"red\")\n",
    "reg.score(X_test,y_test)\n",
    "\n",
    "#plt.plot(X_test,predict,color=\"red\")\n",
    "\n",
    "\n",
    "\n",
    "\n",
    "# clf=LinearRegression()\n",
    "# clf.fit(X_train,y_train)\n",
    "# clf.predict(X_test)\n",
    "# clf.score(X_test,y_test)\n"
   ]
  },
  {
   "cell_type": "code",
   "execution_count": 89,
   "id": "2619d387",
   "metadata": {},
   "outputs": [
    {
     "data": {
      "image/png": "[encoded data removed]",
      "text/plain": [
       "<Figure size 432x288 with 1 Axes>"
      ]
     },
     "metadata": {
      "needs_background": "light"
     },
     "output_type": "display_data"
    },
    {
     "name": "stdout",
     "output_type": "stream",
     "text": [
      "Prediction's precise : 76.75051262607289\n"
     ]
    }
   ],
   "source": [
    "final=pd.read_csv('final1.csv')\n",
    "def scatterPrediction(x,y,l,label,country):\n",
    " \n",
    "    for i in range(len(l)):\n",
    "        plt.scatter(x[l[i]],y,label=l[i])\n",
    " \n",
    "    plt.title(country + \" Model\")\n",
    "    plt.xlabel(str(l).strip('[]'))#l\n",
    "    plt.ylabel(label)#col_y\n",
    "    plt.legend(numpoints=1,loc=4)\n",
    "    plt.show()\n",
    " \n",
    " \n",
    " \n",
    "  \n",
    "def predict(dataset,country,col_x,col_y,testSize):\n",
    "        rows = dataset.loc[dataset['Entity'] == country]\n",
    "        con=1\n",
    "        for i in col_x:\n",
    "            #print(i)\n",
    "            if(con==1):\n",
    "                X=pd.DataFrame(rows[i],columns=[i])\n",
    "                con=0\n",
    "            X[i]=dataset[i]\n",
    "        Y=rows[col_y]\n",
    "        scatterPrediction(X,Y,col_x,col_y,country)\n",
    "        Xtrain,Xtest,Ytrain,Ytest=train_test_split(X,Y,test_size=testSize)\n",
    "        clf=LinearRegression()\n",
    "        clf.fit(Xtrain,Ytrain)\n",
    "        clf.predict(Xtest)\n",
    "        print(\"Prediction's precise :\",clf.score(Xtest,Ytest)*100)\n",
    "k=list()\n",
    "k.append('HDI')\n",
    "k.append('Health')\n",
    "k.append('Income')\n",
    "k.append('Education')\n",
    "predict(final,'Japan',k,'Population (historical estimates)',0.2)"
   ]
  },
  {
   "cell_type": "code",
   "execution_count": 53,
   "id": "eafe4b57",
   "metadata": {},
   "outputs": [
    {
     "name": "stdout",
     "output_type": "stream",
     "text": [
      "<class 'pandas.core.frame.DataFrame'>\n",
      "Int64Index: 5010 entries, 0 to 5009\n",
      "Data columns (total 17 columns):\n",
      " #   Column                             Non-Null Count  Dtype  \n",
      "---  ------                             --------------  -----  \n",
      " 0   Unnamed: 0                         5010 non-null   int64  \n",
      " 1   Entity                             5010 non-null   object \n",
      " 2   Year                               5010 non-null   int64  \n",
      " 3   agricultural_land                  5010 non-null   float64\n",
      " 4   PopulationNormalized               5010 non-null   float64\n",
      " 5   Population (historical estimates)  5010 non-null   int64  \n",
      " 6   Share of global forest area        5010 non-null   float64\n",
      " 7   Birth by thousands                 5010 non-null   int64  \n",
      " 8   Death by thousands                 5010 non-null   int64  \n",
      " 9   undernourishment_prevalence        5010 non-null   float64\n",
      " 10  Forest area                        5010 non-null   float64\n",
      " 11  Health                             5010 non-null   float64\n",
      " 12  Income                             5010 non-null   float64\n",
      " 13  Education                          5010 non-null   float64\n",
      " 14  HDI                                4469 non-null   float64\n",
      " 15  Calories per day                   4560 non-null   float64\n",
      " 16  Annual CO2 emissions               5005 non-null   float64\n",
      "dtypes: float64(11), int64(5), object(1)\n",
      "memory usage: 704.5+ KB\n"
     ]
    }
   ],
   "source": [
    "final=pd.read_csv('FINAL.csv')\n",
    "co2=pd.read_csv('annual-co2-emissions-per-country.csv')\n",
    "co2 = co2[(co2['Year'] >= 1990) & (co2['Year'] <= 2019)]\n",
    "newoutput = pd.merge(final, co2, how='left', on=['Entity', 'Year'])\n",
    "newoutput.to_csv('final1.csv')\n"
   ]
  },
  {
   "cell_type": "code",
   "execution_count": 55,
   "id": "562cc540",
   "metadata": {},
   "outputs": [
    {
     "name": "stdout",
     "output_type": "stream",
     "text": [
      "<class 'pandas.core.frame.DataFrame'>\n",
      "RangeIndex: 5010 entries, 0 to 5009\n",
      "Data columns (total 17 columns):\n",
      " #   Column                             Non-Null Count  Dtype  \n",
      "---  ------                             --------------  -----  \n",
      " 0   Unnamed: 0                         5010 non-null   int64  \n",
      " 1   Entity                             5010 non-null   object \n",
      " 2   Year                               5010 non-null   int64  \n",
      " 3   agricultural_land                  5010 non-null   float64\n",
      " 4   PopulationNormalized               5010 non-null   float64\n",
      " 5   Population (historical estimates)  5010 non-null   int64  \n",
      " 6   Share of global forest area        5010 non-null   float64\n",
      " 7   Birth by thousands                 5010 non-null   int64  \n",
      " 8   Death by thousands                 5010 non-null   int64  \n",
      " 9   undernourishment_prevalence        5010 non-null   float64\n",
      " 10  Forest area                        5010 non-null   float64\n",
      " 11  Health                             5010 non-null   float64\n",
      " 12  Income                             5010 non-null   float64\n",
      " 13  Education                          5010 non-null   float64\n",
      " 14  HDI                                4469 non-null   float64\n",
      " 15  Calories per day                   4560 non-null   float64\n",
      " 16  Annual CO2 emissions               5005 non-null   float64\n",
      "dtypes: float64(11), int64(5), object(1)\n",
      "memory usage: 665.5+ KB\n"
     ]
    }
   ],
   "source": [
    "\n",
    "final=pd.read_csv('final1.csv')\n",
    "final.info()\n",
    "final['Annual CO2 emissions'].fillna(final.groupby('Entity')['Annual CO2 emissions'].transform(\"mean\"),inplace=True)\n",
    "final['Calories per day'] = final['Calories per day'].fillna(0)\n",
    "final.to_csv('final1.csv')\n"
   ]
  },
  {
   "cell_type": "code",
   "execution_count": 208,
   "id": "89dae0f5",
   "metadata": {},
   "outputs": [
    {
     "name": "stdout",
     "output_type": "stream",
     "text": [
      "1990\n",
      "accuracy = 0.794\n",
      "1991\n",
      "accuracy = 0.794\n",
      "1992\n",
      "accuracy = 0.824\n",
      "1993\n",
      "accuracy = 0.706\n",
      "1994\n",
      "accuracy = 0.765\n",
      "1995\n",
      "accuracy = 0.824\n",
      "1996\n",
      "accuracy = 0.824\n",
      "1997\n",
      "accuracy = 0.588\n",
      "1998\n",
      "accuracy = 0.882\n",
      "1999\n",
      "accuracy = 0.912\n",
      "2000\n",
      "accuracy = 0.824\n",
      "2001\n",
      "accuracy = 0.853\n",
      "2002\n",
      "accuracy = 0.941\n",
      "2003\n",
      "accuracy = 0.824\n",
      "2004\n",
      "accuracy = 0.853\n",
      "2005\n",
      "accuracy = 0.882\n",
      "2006\n",
      "accuracy = 0.912\n",
      "2007\n",
      "accuracy = 0.824\n",
      "2008\n",
      "accuracy = 0.824\n",
      "2009\n",
      "accuracy = 0.912\n",
      "2010\n",
      "accuracy = 0.853\n",
      "2011\n",
      "accuracy = 0.853\n",
      "2012\n",
      "accuracy = 0.971\n",
      "2013\n",
      "accuracy = 0.824\n",
      "2014\n",
      "accuracy = 0.824\n",
      "2015\n",
      "accuracy = 0.882\n",
      "2016\n",
      "accuracy = 0.912\n",
      "2017\n",
      "accuracy = 0.824\n",
      "2018\n",
      "accuracy = 0.853\n",
      "2019\n",
      "accuracy = 0.794\n"
     ]
    }
   ],
   "source": [
    "final=pd.read_csv('final1.csv')\n",
    "import numpy as np\n",
    "from sklearn import metrics\n",
    "from sklearn.ensemble import RandomForestClassifier\n",
    "random_forest_model=RandomForestClassifier()\n",
    "\n",
    "final['Hunger']=0\n",
    "conditions = [(final['undernourishment_prevalence']<= 15),(final['undernourishment_prevalence'] > 15)]\n",
    "values = [False, True]\n",
    "list1=[]\n",
    "final['Hunger'] = np.select(conditions, values)\n",
    "final['HDI'].fillna(final.groupby('Entity')['HDI'].transform(\"mean\"),inplace=True)    \n",
    "final['HDI'] = final['HDI'].fillna(0)\n",
    "for i in range(1990,2020):\n",
    "    list1.append(final[(final['Year'] == i)]) \n",
    "x=1990  \n",
    "feature_columns=['Health','Education','Income','HDI','Calories per day','Population (historical estimates)']\n",
    "predicted_class=['Hunger']\n",
    "for i in list1:\n",
    "    print(x)\n",
    "    X=i[feature_columns].values\n",
    "    y=i[predicted_class].values\n",
    "    X_train,X_test,y_train,y_test = train_test_split(X,y,test_size=0.2)\n",
    "    random_forest_model.fit(X_train,y_train.ravel())\n",
    "    predict_train_data=random_forest_model.predict(X_test)\n",
    "    print(\"accuracy = {0:.3f}\".format(metrics.accuracy_score(y_test,predict_train_data)))\n",
    "    x+=1\n",
    "\n",
    "\n",
    "\n"
   ]
  },
  {
   "cell_type": "code",
   "execution_count": null,
   "id": "32cb3321",
   "metadata": {},
   "outputs": [],
   "source": [
    "\n"
   ]
  },
  {
   "cell_type": "code",
   "execution_count": null,
   "id": "ce73fd80",
   "metadata": {},
   "outputs": [],
   "source": [
    "\n"
   ]
  },
  {
   "cell_type": "code",
   "execution_count": null,
   "id": "d3dd3bbc",
   "metadata": {},
   "outputs": [],
   "source": []
  }
 ],
 "metadata": {
  "kernelspec": {
   "display_name": "Python 3",
   "language": "python",
   "name": "python3"
  },
  "language_info": {
   "codemirror_mode": {
    "name": "ipython",
    "version": 3
   },
   "file_extension": ".py",
   "mimetype": "text/x-python",
   "name": "python",
   "nbconvert_exporter": "python",
   "pygments_lexer": "ipython3",
   "version": "3.8.8"
  }
 },
 "nbformat": 4,
 "nbformat_minor": 5
}
